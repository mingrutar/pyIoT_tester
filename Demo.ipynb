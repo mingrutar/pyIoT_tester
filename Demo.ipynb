{
 "cells": [
  {
   "cell_type": "markdown",
   "metadata": {},
   "source": [
    "## AWS tutorial 'Capturing Table Activity with DynamoDB Streams'\n",
    "\n",
    "When a record is inserted to a dynamoDB table, the lambda publisha message. An email is subscribed to the topic.\n",
    "\n",
    "Setting up:\n",
    "- create table\n",
    "- create role, policy\n",
    "- create topic, subscribe topic\n",
    "- create lambda\n",
    "- create lambda trig\n",
    "\n",
    "<a href='#test_rec'>Test: adding records to DynamoDB</a>\n",
    "\n",
    "https://docs.aws.amazon.com/amazondynamodb/latest/developerguide/Streams.Lambda.Tutorial.html?shortFooter=true#Streams.Lambda.Tutorial.CreateTable\n"
   ]
  },
  {
   "cell_type": "code",
   "execution_count": 5,
   "metadata": {
    "collapsed": true
   },
   "outputs": [
    {
     "name": "stdout",
     "output_type": "stream",
     "text": [
      "{\n",
      "    \"TableDescription\": {\n",
      "        \"AttributeDefinitions\": [\n",
      "            {\n",
      "                \"AttributeName\": \"DeviceId\",\n",
      "                \"AttributeType\": \"S\"\n",
      "            },\n",
      "            {\n",
      "                \"AttributeName\": \"Timestamp\",\n",
      "                \"AttributeType\": \"S\"\n",
      "            }\n",
      "        ],\n",
      "        \"TableName\": \"DeviceInfoTable\",\n",
      "        \"KeySchema\": [\n",
      "            {\n",
      "                \"AttributeName\": \"DeviceId\",\n",
      "                \"KeyType\": \"HASH\"\n",
      "            },\n",
      "            {\n",
      "                \"AttributeName\": \"Timestamp\",\n",
      "                \"KeyType\": \"RANGE\"\n",
      "            }\n",
      "        ],\n",
      "        \"TableStatus\": \"CREATING\",\n",
      "        \"CreationDateTime\": 1572371391.744,\n",
      "        \"ProvisionedThroughput\": {\n",
      "            \"NumberOfDecreasesToday\": 0,\n",
      "            \"ReadCapacityUnits\": 1,\n",
      "            \"WriteCapacityUnits\": 1\n",
      "        },\n",
      "        \"TableSizeBytes\": 0,\n",
      "        \"ItemCount\": 0,\n",
      "        \"TableArn\": \"arn:aws:dynamodb:us-west-2:408575476948:table/DeviceInfoTable\",\n",
      "        \"TableId\": \"8cdc42dc-a5d4-4e6a-84fc-84ba84f108ee\",\n",
      "        \"StreamSpecification\": {\n",
      "            \"StreamEnabled\": true,\n",
      "            \"StreamViewType\": \"NEW_AND_OLD_IMAGES\"\n",
      "        },\n",
      "        \"LatestStreamLabel\": \"2019-10-29T17:49:51.744\",\n",
      "        \"LatestStreamArn\": \"arn:aws:dynamodb:us-west-2:408575476948:table/DeviceInfoTable/stream/2019-10-29T17:49:51.744\"\n",
      "    }\n",
      "}\n"
     ]
    }
   ],
   "source": [
    "aws dynamodb create-table --table-name DeviceInfoTable \\\n",
    "    --attribute-definitions AttributeName=DeviceId,AttributeType=S AttributeName=Timestamp,AttributeType=S \\\n",
    "    --key-schema AttributeName=DeviceId,KeyType=HASH  AttributeName=Timestamp,KeyType=RANGE \\\n",
    "    --provisioned-throughput ReadCapacityUnits=1,WriteCapacityUnits=1 \\\n",
    "    --stream-specification StreamEnabled=true,StreamViewType=NEW_AND_OLD_IMAGES"
   ]
  },
  {
   "cell_type": "code",
   "execution_count": 6,
   "metadata": {
    "collapsed": true
   },
   "outputs": [
    {
     "name": "stdout",
     "output_type": "stream",
     "text": [
      "{\n",
      "    \"Table\": {\n",
      "        \"AttributeDefinitions\": [\n",
      "            {\n",
      "                \"AttributeName\": \"DeviceId\",\n",
      "                \"AttributeType\": \"S\"\n",
      "            },\n",
      "            {\n",
      "                \"AttributeName\": \"Timestamp\",\n",
      "                \"AttributeType\": \"S\"\n",
      "            }\n",
      "        ],\n",
      "        \"TableName\": \"DeviceInfoTable\",\n",
      "        \"KeySchema\": [\n",
      "            {\n",
      "                \"AttributeName\": \"DeviceId\",\n",
      "                \"KeyType\": \"HASH\"\n",
      "            },\n",
      "            {\n",
      "                \"AttributeName\": \"Timestamp\",\n",
      "                \"KeyType\": \"RANGE\"\n",
      "            }\n",
      "        ],\n",
      "        \"TableStatus\": \"ACTIVE\",\n",
      "        \"CreationDateTime\": 1572371391.744,\n",
      "        \"ProvisionedThroughput\": {\n",
      "            \"NumberOfDecreasesToday\": 0,\n",
      "            \"ReadCapacityUnits\": 1,\n",
      "            \"WriteCapacityUnits\": 1\n",
      "        },\n",
      "        \"TableSizeBytes\": 0,\n",
      "        \"ItemCount\": 0,\n",
      "        \"TableArn\": \"arn:aws:dynamodb:us-west-2:408575476948:table/DeviceInfoTable\",\n",
      "        \"TableId\": \"8cdc42dc-a5d4-4e6a-84fc-84ba84f108ee\",\n",
      "        \"StreamSpecification\": {\n",
      "            \"StreamEnabled\": true,\n",
      "            \"StreamViewType\": \"NEW_AND_OLD_IMAGES\"\n",
      "        },\n",
      "        \"LatestStreamLabel\": \"2019-10-29T17:49:51.744\",\n",
      "        \"LatestStreamArn\": \"arn:aws:dynamodb:us-west-2:408575476948:table/DeviceInfoTable/stream/2019-10-29T17:49:51.744\"\n",
      "    }\n",
      "}\n"
     ]
    }
   ],
   "source": [
    "# change wcu and rcu\n",
    "# aws dynamodb update-table --table-name BarkTable --provisioned-throughput ReadCapacityUnits=1,WriteCapacityUnits=1\n",
    "\n",
    "#describe\n",
    "aws dynamodb describe-table --table-name DeviceInfoTable"
   ]
  },
  {
   "cell_type": "code",
   "execution_count": 7,
   "metadata": {
    "collapsed": true
   },
   "outputs": [
    {
     "name": "stdout",
     "output_type": "stream",
     "text": [
      "{\n",
      "    \"Role\": {\n",
      "        \"Path\": \"/service-role/\",\n",
      "        \"RoleName\": \"DeviceLambdaRole\",\n",
      "        \"RoleId\": \"AROAV6IH7ATKH5IG4CBXD\",\n",
      "        \"Arn\": \"arn:aws:iam::408575476948:role/service-role/DeviceLambdaRole\",\n",
      "        \"CreateDate\": \"2019-10-29T18:00:06Z\",\n",
      "        \"AssumeRolePolicyDocument\": {\n",
      "            \"Version\": \"2012-10-17\",\n",
      "            \"Statement\": [\n",
      "                {\n",
      "                    \"Effect\": \"Allow\",\n",
      "                    \"Principal\": {\n",
      "                        \"Service\": \"lambda.amazonaws.com\"\n",
      "                    },\n",
      "                    \"Action\": \"sts:AssumeRole\"\n",
      "                }\n",
      "            ]\n",
      "        }\n",
      "    }\n",
      "}\n"
     ]
    }
   ],
   "source": [
    "# create trust-relation role\n",
    "aws iam create-role --role-name DeviceLambdaRole --path \"/service-role/\" \\\n",
    "    --assume-role-policy-document file://trust-relationship.json"
   ]
  },
  {
   "cell_type": "code",
   "execution_count": 12,
   "metadata": {
    "collapsed": true
   },
   "outputs": [
    {
     "name": "stdout",
     "output_type": "stream",
     "text": [
      "{\n",
      "    \"RoleName\": \"DeviceLambdaRole\",\n",
      "    \"PolicyName\": \"DeviceLambdaRolePolicy\",\n",
      "    \"PolicyDocument\": {\n",
      "        \"Version\": \"2012-10-17\",\n",
      "        \"Statement\": [\n",
      "            {\n",
      "                \"Effect\": \"Allow\",\n",
      "                \"Action\": \"lambda:InvokeFunction\",\n",
      "                \"Resource\": \"arn:aws:lambda:us-west-2:408575476948:function:publishDeviceStatus*\"\n",
      "            },\n",
      "            {\n",
      "                \"Effect\": \"Allow\",\n",
      "                \"Action\": [\n",
      "                    \"logs:CreateLogGroup\",\n",
      "                    \"logs:CreateLogStream\",\n",
      "                    \"logs:PutLogEvents\"\n",
      "                ],\n",
      "                \"Resource\": \"arn:aws:logs:us-west-2:408575476948:*\"\n",
      "            },\n",
      "            {\n",
      "                \"Effect\": \"Allow\",\n",
      "                \"Action\": [\n",
      "                    \"dynamodb:DescribeStream\",\n",
      "                    \"dynamodb:GetRecords\",\n",
      "                    \"dynamodb:GetShardIterator\",\n",
      "                    \"dynamodb:ListStreams\"\n",
      "                ],\n",
      "                \"Resource\": \"arn:aws:dynamodb:us-west-2:408575476948:table/DeviceInfoTable/stream/*\"\n",
      "            },\n",
      "            {\n",
      "                \"Effect\": \"Allow\",\n",
      "                \"Action\": [\n",
      "                    \"sns:Publish\"\n",
      "                ],\n",
      "                \"Resource\": [\n",
      "                    \"*\"\n",
      "                ]\n",
      "            }\n",
      "        ]\n",
      "    }\n",
      "}\n"
     ]
    }
   ],
   "source": [
    "# create policy and attach it to the role\n",
    "# aws iam put-role-policy --role-name DeviceLambdaRole --policy-name DeviceLambdaRolePolicy \\\n",
    "#    --policy-document file://role-policy.json\n",
    "\n",
    "# describe\n",
    "aws iam get-role-policy --role-name DeviceLambdaRole --policy-name DeviceLambdaRolePolicy"
   ]
  },
  {
   "cell_type": "code",
   "execution_count": 13,
   "metadata": {},
   "outputs": [
    {
     "name": "stdout",
     "output_type": "stream",
     "text": [
      "{\n",
      "    \"TopicArn\": \"arn:aws:sns:us-west-2:408575476948:deviceStatusTopic\"\n",
      "}\n"
     ]
    }
   ],
   "source": [
    "# create a sns topic\n",
    "aws sns create-topic --name deviceStatusTopic"
   ]
  },
  {
   "cell_type": "code",
   "execution_count": 14,
   "metadata": {
    "scrolled": true
   },
   "outputs": [
    {
     "name": "stdout",
     "output_type": "stream",
     "text": [
      "{\n",
      "    \"SubscriptionArn\": \"pending confirmation\"\n",
      "}\n"
     ]
    }
   ],
   "source": [
    "# create topic subscription\n",
    "aws sns subscribe --topic-arn arn:aws:sns:us-west-2:408575476948:deviceStatusTopic \\\n",
    "    --protocol email --notification-endpoint coderming@gmail.com"
   ]
  },
  {
   "cell_type": "markdown",
   "metadata": {},
   "source": [
    "#### I create function 'publishDeviceStatus' at console\n",
    "\n",
    "to use aws cli (not tested) : \n",
    "- edit publishDeviceStatus.py file\n",
    "- then run:\n",
    "<code>\n",
    "$ zip publishDeviceStatus.zip publishDeviceStatus.py\n",
    "$ aws lambda create-function \\\n",
    "    --region us-west-2 \\\n",
    "    --function-name publishDeviceStatus \\\n",
    "    --zip-file fileb://publishDeviceStatus.zip \\\n",
    "    --role arn:aws:iam::408575476948:role/service-role/DeviceLambdaRole \\\n",
    "    --handler publishDeviceStatus.handler \\\n",
    "    --timeout 5 \\\n",
    "    --runtime python3.7\n",
    "</code>"
   ]
  },
  {
   "cell_type": "code",
   "execution_count": 15,
   "metadata": {
    "collapsed": true
   },
   "outputs": [
    {
     "name": "stdout",
     "output_type": "stream",
     "text": [
      "{\n",
      "    \"UUID\": \"f3063ab1-9870-44ce-9130-7bb5058b04c7\",\n",
      "    \"BatchSize\": 1,\n",
      "    \"MaximumBatchingWindowInSeconds\": 0,\n",
      "    \"EventSourceArn\": \"arn:aws:dynamodb:us-west-2:408575476948:table/DeviceInfoTable/stream/2019-10-29T17:49:51.744\",\n",
      "    \"FunctionArn\": \"arn:aws:lambda:us-west-2:408575476948:function:publishDeviceStatus\",\n",
      "    \"LastModified\": 1572380863.114,\n",
      "    \"LastProcessingResult\": \"No records processed\",\n",
      "    \"State\": \"Creating\",\n",
      "    \"StateTransitionReason\": \"User action\"\n",
      "}\n"
     ]
    }
   ],
   "source": [
    "# create dynamodb trig on the lambda\n",
    "aws lambda create-event-source-mapping \\\n",
    "    --region us-west-2 \\\n",
    "    --function-name publishDeviceStatus \\\n",
    "    --event-source arn:aws:dynamodb:us-west-2:408575476948:table/DeviceInfoTable/stream/2019-10-29T17:49:51.744 \\\n",
    "    --batch-size 1 \\\n",
    "    --starting-position TRIM_HORIZON"
   ]
  },
  {
   "cell_type": "markdown",
   "metadata": {},
   "source": [
    "###  <a name='test_rec'>Test the flow by adding records to dynamodb </a>"
   ]
  },
  {
   "cell_type": "code",
   "execution_count": 18,
   "metadata": {},
   "outputs": [],
   "source": [
    "\n",
    "aws dynamodb put-item --table-name DeviceInfoTable \\\n",
    " --item DeviceId={S=\"DroneSimulator_D\"},Timestamp={S=\"2019-10-29:13:10:36\"},Status={S=\"OK\"}\n",
    "aws dynamodb put-item --table-name DeviceInfoTable \\\n",
    " --item DeviceId={S=\"DroneSimulator_D\"},Timestamp={S=\"2019-10-29:13:10:46\"},Status={S=\"Bad\"}\n",
    "aws dynamodb put-item --table-name DeviceInfoTable \\\n",
    " --item DeviceId={S=\"DroneSimulator_D\"},Timestamp={S=\"2019-10-29:13:11:36\"},Status={S=\"OK\"}"
   ]
  },
  {
   "cell_type": "code",
   "execution_count": null,
   "metadata": {},
   "outputs": [],
   "source": [
    "### connectIoT QMTT"
   ]
  }
 ],
 "metadata": {
  "kernelspec": {
   "display_name": "Bash",
   "language": "bash",
   "name": "bash"
  },
  "language_info": {
   "codemirror_mode": "shell",
   "file_extension": ".sh",
   "mimetype": "text/x-sh",
   "name": "bash"
  }
 },
 "nbformat": 4,
 "nbformat_minor": 2
}
