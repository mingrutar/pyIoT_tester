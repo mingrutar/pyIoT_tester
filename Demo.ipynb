{
 "cells": [
  {
   "cell_type": "markdown",
   "metadata": {},
   "source": [
    "## AWS tutorial 'Capturing Table Activity with DynamoDB Streams'\n",
    "\n",
    "When a record is inserted to a dynamoDB table, the lambda publisha message. An email is subscribed to the topic.\n",
    "\n",
    "Setting up:\n",
    "- create table\n",
    "- create role, policy\n",
    "- create topic, subscribe topic\n",
    "- create lambda\n",
    "- create lambda trig\n",
    "\n",
    "<a href='#test_rec'>Test: adding records to DynamoDB</a>\n",
    "\n",
    "https://docs.aws.amazon.com/amazondynamodb/latest/developerguide/Streams.Lambda.Tutorial.html?shortFooter=true#Streams.Lambda.Tutorial.CreateTable\n",
    "\n",
    "<b>curl MQTT</b>\n",
    "<code>\n",
    "    # sample\n",
    "    curl --tlsv1.2 --cacert root-CA.crt --cert 4b7828d2e5-certificate.pem.crt --key 4b7828d2e5-private.pem.key -X POST -d \"{ \\\"message\\\": \\\"Hello, world\\\" }\" \"https://a1pn10j0v8htvw.iot.us-east-1.amazonaws.com:8443/topics/my/topic\"\n",
    "    # IoTTestDevice\n",
    "    curl --tlsv1.2 --cacert root-CA.crt --cert IoTTestDevice.cert.pem --key IoTTestDevice.private.key -X POST -d \"{ \\\"message\\\": \\\"Hello, world\\\" }\" \"https://a3a13fa4bs6nw5-ats.iot.us-west-2.amazonaws.com:8443/topics/my/topic\"\n",
    "    \n",
    "</code>"
   ]
  },
  {
   "cell_type": "code",
   "execution_count": 5,
   "metadata": {
    "collapsed": true
   },
   "outputs": [
    {
     "name": "stdout",
     "output_type": "stream",
     "text": [
      "{\n",
      "    \"TableDescription\": {\n",
      "        \"AttributeDefinitions\": [\n",
      "            {\n",
      "                \"AttributeName\": \"DeviceId\",\n",
      "                \"AttributeType\": \"S\"\n",
      "            },\n",
      "            {\n",
      "                \"AttributeName\": \"Timestamp\",\n",
      "                \"AttributeType\": \"S\"\n",
      "            }\n",
      "        ],\n",
      "        \"TableName\": \"DeviceInfoTable\",\n",
      "        \"KeySchema\": [\n",
      "            {\n",
      "                \"AttributeName\": \"DeviceId\",\n",
      "                \"KeyType\": \"HASH\"\n",
      "            },\n",
      "            {\n",
      "                \"AttributeName\": \"Timestamp\",\n",
      "                \"KeyType\": \"RANGE\"\n",
      "            }\n",
      "        ],\n",
      "        \"TableStatus\": \"CREATING\",\n",
      "        \"CreationDateTime\": 1572371391.744,\n",
      "        \"ProvisionedThroughput\": {\n",
      "            \"NumberOfDecreasesToday\": 0,\n",
      "            \"ReadCapacityUnits\": 1,\n",
      "            \"WriteCapacityUnits\": 1\n",
      "        },\n",
      "        \"TableSizeBytes\": 0,\n",
      "        \"ItemCount\": 0,\n",
      "        \"TableArn\": \"arn:aws:dynamodb:us-west-2:408575476948:table/DeviceInfoTable\",\n",
      "        \"TableId\": \"8cdc42dc-a5d4-4e6a-84fc-84ba84f108ee\",\n",
      "        \"StreamSpecification\": {\n",
      "            \"StreamEnabled\": true,\n",
      "            \"StreamViewType\": \"NEW_AND_OLD_IMAGES\"\n",
      "        },\n",
      "        \"LatestStreamLabel\": \"2019-10-29T17:49:51.744\",\n",
      "        \"LatestStreamArn\": \"arn:aws:dynamodb:us-west-2:408575476948:table/DeviceInfoTable/stream/2019-10-29T17:49:51.744\"\n",
      "    }\n",
      "}\n"
     ]
    }
   ],
   "source": [
    "aws dynamodb create-table --table-name DeviceInfoTable \\\n",
    "    --attribute-definitions AttributeName=DeviceId,AttributeType=S AttributeName=Timestamp,AttributeType=S \\\n",
    "    --key-schema AttributeName=DeviceId,KeyType=HASH  AttributeName=Timestamp,KeyType=RANGE \\\n",
    "    --provisioned-throughput ReadCapacityUnits=1,WriteCapacityUnits=1 \\\n",
    "    --stream-specification StreamEnabled=true,StreamViewType=NEW_AND_OLD_IMAGES"
   ]
  },
  {
   "cell_type": "code",
   "execution_count": 6,
   "metadata": {
    "collapsed": true
   },
   "outputs": [
    {
     "name": "stdout",
     "output_type": "stream",
     "text": [
      "{\n",
      "    \"Table\": {\n",
      "        \"AttributeDefinitions\": [\n",
      "            {\n",
      "                \"AttributeName\": \"DeviceId\",\n",
      "                \"AttributeType\": \"S\"\n",
      "            },\n",
      "            {\n",
      "                \"AttributeName\": \"Timestamp\",\n",
      "                \"AttributeType\": \"S\"\n",
      "            }\n",
      "        ],\n",
      "        \"TableName\": \"DeviceInfoTable\",\n",
      "        \"KeySchema\": [\n",
      "            {\n",
      "                \"AttributeName\": \"DeviceId\",\n",
      "                \"KeyType\": \"HASH\"\n",
      "            },\n",
      "            {\n",
      "                \"AttributeName\": \"Timestamp\",\n",
      "                \"KeyType\": \"RANGE\"\n",
      "            }\n",
      "        ],\n",
      "        \"TableStatus\": \"ACTIVE\",\n",
      "        \"CreationDateTime\": 1572371391.744,\n",
      "        \"ProvisionedThroughput\": {\n",
      "            \"NumberOfDecreasesToday\": 0,\n",
      "            \"ReadCapacityUnits\": 1,\n",
      "            \"WriteCapacityUnits\": 1\n",
      "        },\n",
      "        \"TableSizeBytes\": 0,\n",
      "        \"ItemCount\": 0,\n",
      "        \"TableArn\": \"arn:aws:dynamodb:us-west-2:408575476948:table/DeviceInfoTable\",\n",
      "        \"TableId\": \"8cdc42dc-a5d4-4e6a-84fc-84ba84f108ee\",\n",
      "        \"StreamSpecification\": {\n",
      "            \"StreamEnabled\": true,\n",
      "            \"StreamViewType\": \"NEW_AND_OLD_IMAGES\"\n",
      "        },\n",
      "        \"LatestStreamLabel\": \"2019-10-29T17:49:51.744\",\n",
      "        \"LatestStreamArn\": \"arn:aws:dynamodb:us-west-2:408575476948:table/DeviceInfoTable/stream/2019-10-29T17:49:51.744\"\n",
      "    }\n",
      "}\n"
     ]
    }
   ],
   "source": [
    "# change wcu and rcu\n",
    "# aws dynamodb update-table --table-name BarkTable --provisioned-throughput ReadCapacityUnits=1,WriteCapacityUnits=1\n",
    "\n",
    "#describe\n",
    "aws dynamodb describe-table --table-name DeviceInfoTable"
   ]
  },
  {
   "cell_type": "code",
   "execution_count": 7,
   "metadata": {
    "collapsed": true
   },
   "outputs": [
    {
     "name": "stdout",
     "output_type": "stream",
     "text": [
      "{\n",
      "    \"Role\": {\n",
      "        \"Path\": \"/service-role/\",\n",
      "        \"RoleName\": \"DeviceLambdaRole\",\n",
      "        \"RoleId\": \"AROAV6IH7ATKH5IG4CBXD\",\n",
      "        \"Arn\": \"arn:aws:iam::408575476948:role/service-role/DeviceLambdaRole\",\n",
      "        \"CreateDate\": \"2019-10-29T18:00:06Z\",\n",
      "        \"AssumeRolePolicyDocument\": {\n",
      "            \"Version\": \"2012-10-17\",\n",
      "            \"Statement\": [\n",
      "                {\n",
      "                    \"Effect\": \"Allow\",\n",
      "                    \"Principal\": {\n",
      "                        \"Service\": \"lambda.amazonaws.com\"\n",
      "                    },\n",
      "                    \"Action\": \"sts:AssumeRole\"\n",
      "                }\n",
      "            ]\n",
      "        }\n",
      "    }\n",
      "}\n"
     ]
    }
   ],
   "source": [
    "# create trust-relation role\n",
    "aws iam create-role --role-name DeviceLambdaRole --path \"/service-role/\" \\\n",
    "    --assume-role-policy-document file://trust-relationship.json"
   ]
  },
  {
   "cell_type": "code",
   "execution_count": 12,
   "metadata": {
    "collapsed": true
   },
   "outputs": [
    {
     "name": "stdout",
     "output_type": "stream",
     "text": [
      "{\n",
      "    \"RoleName\": \"DeviceLambdaRole\",\n",
      "    \"PolicyName\": \"DeviceLambdaRolePolicy\",\n",
      "    \"PolicyDocument\": {\n",
      "        \"Version\": \"2012-10-17\",\n",
      "        \"Statement\": [\n",
      "            {\n",
      "                \"Effect\": \"Allow\",\n",
      "                \"Action\": \"lambda:InvokeFunction\",\n",
      "                \"Resource\": \"arn:aws:lambda:us-west-2:408575476948:function:publishDeviceStatus*\"\n",
      "            },\n",
      "            {\n",
      "                \"Effect\": \"Allow\",\n",
      "                \"Action\": [\n",
      "                    \"logs:CreateLogGroup\",\n",
      "                    \"logs:CreateLogStream\",\n",
      "                    \"logs:PutLogEvents\"\n",
      "                ],\n",
      "                \"Resource\": \"arn:aws:logs:us-west-2:408575476948:*\"\n",
      "            },\n",
      "            {\n",
      "                \"Effect\": \"Allow\",\n",
      "                \"Action\": [\n",
      "                    \"dynamodb:DescribeStream\",\n",
      "                    \"dynamodb:GetRecords\",\n",
      "                    \"dynamodb:GetShardIterator\",\n",
      "                    \"dynamodb:ListStreams\"\n",
      "                ],\n",
      "                \"Resource\": \"arn:aws:dynamodb:us-west-2:408575476948:table/DeviceInfoTable/stream/*\"\n",
      "            },\n",
      "            {\n",
      "                \"Effect\": \"Allow\",\n",
      "                \"Action\": [\n",
      "                    \"sns:Publish\"\n",
      "                ],\n",
      "                \"Resource\": [\n",
      "                    \"*\"\n",
      "                ]\n",
      "            }\n",
      "        ]\n",
      "    }\n",
      "}\n"
     ]
    }
   ],
   "source": [
    "# create policy and attach it to the role\n",
    "# aws iam put-role-policy --role-name DeviceLambdaRole --policy-name DeviceLambdaRolePolicy \\\n",
    "#    --policy-document file://role-policy.json\n",
    "\n",
    "# describe\n",
    "aws iam get-role-policy --role-name DeviceLambdaRole --policy-name DeviceLambdaRolePolicy"
   ]
  },
  {
   "cell_type": "code",
   "execution_count": 13,
   "metadata": {},
   "outputs": [
    {
     "name": "stdout",
     "output_type": "stream",
     "text": [
      "{\n",
      "    \"TopicArn\": \"arn:aws:sns:us-west-2:408575476948:deviceStatusTopic\"\n",
      "}\n"
     ]
    }
   ],
   "source": [
    "# create a sns topic\n",
    "aws sns create-topic --name deviceStatusTopic"
   ]
  },
  {
   "cell_type": "code",
   "execution_count": 14,
   "metadata": {
    "scrolled": true
   },
   "outputs": [
    {
     "name": "stdout",
     "output_type": "stream",
     "text": [
      "{\n",
      "    \"SubscriptionArn\": \"pending confirmation\"\n",
      "}\n"
     ]
    }
   ],
   "source": [
    "# create topic subscription\n",
    "aws sns subscribe --topic-arn arn:aws:sns:us-west-2:408575476948:deviceStatusTopic \\\n",
    "    --protocol email --notification-endpoint coderming@gmail.com"
   ]
  },
  {
   "cell_type": "markdown",
   "metadata": {},
   "source": [
    "#### I create function 'publishDeviceStatus' at console\n",
    "\n",
    "to use aws cli (not tested) : \n",
    "- edit publishDeviceStatus.py file\n",
    "- then run:\n",
    "<code>\n",
    "$ zip publishDeviceStatus.zip publishDeviceStatus.py\n",
    "$ aws lambda create-function \\\n",
    "    --region us-west-2 \\\n",
    "    --function-name publishDeviceStatus \\\n",
    "    --zip-file fileb://publishDeviceStatus.zip \\\n",
    "    --role arn:aws:iam::408575476948:role/service-role/DeviceLambdaRole \\\n",
    "    --handler publishDeviceStatus.handler \\\n",
    "    --timeout 5 \\\n",
    "    --runtime python3.7\n",
    "</code>"
   ]
  },
  {
   "cell_type": "code",
   "execution_count": 15,
   "metadata": {
    "collapsed": true
   },
   "outputs": [
    {
     "name": "stdout",
     "output_type": "stream",
     "text": [
      "{\n",
      "    \"UUID\": \"f3063ab1-9870-44ce-9130-7bb5058b04c7\",\n",
      "    \"BatchSize\": 1,\n",
      "    \"MaximumBatchingWindowInSeconds\": 0,\n",
      "    \"EventSourceArn\": \"arn:aws:dynamodb:us-west-2:408575476948:table/DeviceInfoTable/stream/2019-10-29T17:49:51.744\",\n",
      "    \"FunctionArn\": \"arn:aws:lambda:us-west-2:408575476948:function:publishDeviceStatus\",\n",
      "    \"LastModified\": 1572380863.114,\n",
      "    \"LastProcessingResult\": \"No records processed\",\n",
      "    \"State\": \"Creating\",\n",
      "    \"StateTransitionReason\": \"User action\"\n",
      "}\n"
     ]
    }
   ],
   "source": [
    "# create dynamodb trig on the lambda\n",
    "aws lambda create-event-source-mapping \\\n",
    "    --region us-west-2 \\\n",
    "    --function-name publishDeviceStatus \\\n",
    "    --event-source arn:aws:dynamodb:us-west-2:408575476948:table/DeviceInfoTable/stream/2019-10-29T17:49:51.744 \\\n",
    "    --batch-size 1 \\\n",
    "    --starting-position TRIM_HORIZON"
   ]
  },
  {
   "cell_type": "markdown",
   "metadata": {},
   "source": [
    "###  <a name='test_rec'>Test the flow by adding records to dynamodb </a>"
   ]
  },
  {
   "cell_type": "code",
   "execution_count": 18,
   "metadata": {},
   "outputs": [],
   "source": [
    "\n",
    "aws dynamodb put-item --table-name DeviceInfoTable \\\n",
    " --item DeviceId={S=\"DroneSimulator_D\"},Timestamp={S=\"2019-10-29:13:10:36\"},Status={S=\"OK\"}\n",
    "aws dynamodb put-item --table-name DeviceInfoTable \\\n",
    " --item DeviceId={S=\"DroneSimulator_D\"},Timestamp={S=\"2019-10-29:13:10:46\"},Status={S=\"Bad\"}\n",
    "aws dynamodb put-item --table-name DeviceInfoTable \\\n",
    " --item DeviceId={S=\"DroneSimulator_D\"},Timestamp={S=\"2019-10-29:13:11:36\"},Status={S=\"OK\"}"
   ]
  },
  {
   "cell_type": "markdown",
   "metadata": {},
   "source": [
    "### Manually Configured IoT connection to DynamoDB at console\n",
    "\n",
    "- create a rule 'deviceStatus'\n",
    "- 'Add action', select DynamoDB 'insert a message into a DynamoDB table':\n",
    "  <code>\n",
    "             Table name : DeviceInfoTable\n",
    "          Partition key : DeviceId             // DynamoDB key\n",
    "    Partition key value : ${myid} \n",
    "               Sort key : TimeStamp            // DynamoDB key\n",
    "         Sort key value : ${timestamp}\n",
    "    Write message data to this column : Payload    // it creates a 'Payload' col and entire json\n",
    "    \n",
    "- the payload from DynamoDB to lambda is in qmtt_payload.json and in lambda publishDeviceStatus Test qmtt_payload2\n",
    "- at AWS IoT Test subscribe Topic 'sdk/test/Python' can see the python messages\n",
    "\n",
    "##### known issues:\n",
    "- change topic to 'device/staus' not work\n",
    "- change clientId not work"
   ]
  },
  {
   "cell_type": "code",
   "execution_count": 29,
   "metadata": {
    "scrolled": true
   },
   "outputs": [
    {
     "name": "stdout",
     "output_type": "stream",
     "text": [
      "~/all_dev/AWS_IoT/myThings/IoTTestDevice/connect_device_package ~/all_dev/AWS_IoT/project4greg\n",
      "Note: Unnecessary use of -X or --request, POST is already inferred.\n",
      "*   Trying 52.40.82.54...\n",
      "* TCP_NODELAY set\n",
      "* Connected to a3a13fa4bs6nw5-ats.iot.us-west-2.amazonaws.com (52.40.82.54) port 8443 (#0)\n",
      "* ALPN, offering h2\n",
      "* ALPN, offering http/1.1\n",
      "* successfully set certificate verify locations:\n",
      "*   CAfile: root-CA.crt\n",
      "  CApath: /etc/ssl/certs\n",
      "* TLSv1.2 (OUT), TLS handshake, Client hello (1):\n",
      "* TLSv1.2 (IN), TLS handshake, Server hello (2):\n",
      "* TLSv1.2 (IN), TLS handshake, Certificate (11):\n",
      "* TLSv1.2 (IN), TLS handshake, Server key exchange (12):\n",
      "* TLSv1.2 (IN), TLS handshake, Request CERT (13):\n",
      "* TLSv1.2 (IN), TLS handshake, Server finished (14):\n",
      "* TLSv1.2 (OUT), TLS handshake, Certificate (11):\n",
      "* TLSv1.2 (OUT), TLS handshake, Client key exchange (16):\n",
      "* TLSv1.2 (OUT), TLS handshake, CERT verify (15):\n",
      "* TLSv1.2 (OUT), TLS change cipher, Client hello (1):\n",
      "* TLSv1.2 (OUT), TLS handshake, Finished (20):\n",
      "* TLSv1.2 (IN), TLS handshake, Finished (20):\n",
      "* SSL connection using TLSv1.2 / ECDHE-RSA-AES128-GCM-SHA256\n",
      "* ALPN, server did not agree to a protocol\n",
      "* Server certificate:\n",
      "*  subject: CN=*.iot.us-west-2.amazonaws.com\n",
      "*  start date: May  7 00:00:00 2019 GMT\n",
      "*  expire date: Apr 29 12:00:00 2020 GMT\n",
      "*  subjectAltName: host \"a3a13fa4bs6nw5-ats.iot.us-west-2.amazonaws.com\" matched cert's \"*.iot.us-west-2.amazonaws.com\"\n",
      "*  issuer: C=US; O=Amazon; OU=Server CA 1B; CN=Amazon\n",
      "*  SSL certificate verify ok.\n",
      "> POST /topics/topic_1?qos=1 HTTP/1.1\n",
      "> Host: a3a13fa4bs6nw5-ats.iot.us-west-2.amazonaws.com:8443\n",
      "> User-Agent: curl/7.58.0\n",
      "> Accept: */*\n",
      "> Content-Length: 92\n",
      "> Content-Type: application/x-www-form-urlencoded\n",
      "> \n",
      "* upload completely sent off: 92 out of 92 bytes\n",
      "< HTTP/1.1 200 OK\n",
      "< content-type: application/json\n",
      "< content-length: 65\n",
      "< date: Wed, 30 Oct 2019 06:12:28 GMT\n",
      "< x-amzn-RequestId: f8de1bae-ad9e-0e0a-162d-f39db38fa960\n",
      "< connection: keep-alive\n",
      "< \n",
      "* Connection #0 to host a3a13fa4bs6nw5-ats.iot.us-west-2.amazonaws.com left intact\n",
      "{\"message\":\"OK\",\"traceId\":\"f8de1bae-ad9e-0e0a-162d-f39db38fa960\"}~/all_dev/AWS_IoT/project4greg\n",
      "bash: device/status: No such file or directory\n"
     ]
    },
    {
     "ename": "",
     "evalue": "127",
     "output_type": "error",
     "traceback": []
    }
   ],
   "source": [
    "pushd /home/ming/all_dev/AWS_IoT/myThings/IoTTestDevice/connect_device_package\n",
    "curl -v --tlsv1.2 --cacert root-CA.crt \\--cert IoTTestDevice.cert.pem \\\n",
    " --key IoTTestDevice.private.key -X POST \\\n",
    " -d \"{\\\"myid\\\": \\\"curl1234\\\",\\\"sequence\\\": 1001,\\\"status\\\": \\\"Unknown\\\",\\\"timestamp\\\": \\\"29-10-2019 23:04:18\\\"}\" \\\n",
    " https://a3a13fa4bs6nw5-ats.iot.us-west-2.amazonaws.com:8443/topics/topic_1?qos=1\n",
    " \n",
    "popd\n",
    "device/status"
   ]
  },
  {
   "cell_type": "code",
   "execution_count": null,
   "metadata": {},
   "outputs": [],
   "source": [
    "pushd /home/ming/all_dev/AWS_IoT/myThings/IoTTestDevice/connect_device_package\n",
    "curl -v --tlsv1.2 --cacert root-CA.crt \\--cert IoTTestDevice.cert.pem \\\n",
    " --key IoTTestDevice.private.key -X POST -d \"{ \\\"message\\\":\\\"Hello2\\\" }\" \\\n",
    " https://a3a13fa4bs6nw5-ats.iot.us-west-2.amazonaws.com:8443/topics/sdk/test/Python?qos=1\n",
    " \n",
    "popd"
   ]
  }
 ],
 "metadata": {
  "kernelspec": {
   "display_name": "Bash",
   "language": "bash",
   "name": "bash"
  },
  "language_info": {
   "codemirror_mode": "shell",
   "file_extension": ".sh",
   "mimetype": "text/x-sh",
   "name": "bash"
  }
 },
 "nbformat": 4,
 "nbformat_minor": 2
}
