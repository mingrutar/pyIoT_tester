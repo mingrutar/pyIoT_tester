{
 "cells": [
  {
   "cell_type": "code",
   "execution_count": 2,
   "metadata": {},
   "outputs": [
    {
     "name": "stdout",
     "output_type": "stream",
     "text": [
      "Press Enter to continue...e\n",
      "Press Enter to continue...s\n",
      "Press Enter to continue...c\n",
      "no pause\n",
      "no pause\n",
      "no pause\n",
      "no pause\n",
      "no pause\n",
      "no pause\n",
      "no pause\n"
     ]
    }
   ],
   "source": [
    "pause = True\n",
    "for i in range(10):\n",
    "    if pause:\n",
    "        pause = (input(\"Press Enter to continue...\") != 'c')\n",
    "    else:\n",
    "        print(\"no pause\")"
   ]
  },
  {
   "cell_type": "code",
   "execution_count": null,
   "metadata": {},
   "outputs": [],
   "source": []
  }
 ],
 "metadata": {
  "kernelspec": {
   "display_name": "Python 3",
   "language": "python",
   "name": "python3"
  },
  "language_info": {
   "codemirror_mode": {
    "name": "ipython",
    "version": 3
   },
   "file_extension": ".py",
   "mimetype": "text/x-python",
   "name": "python",
   "nbconvert_exporter": "python",
   "pygments_lexer": "ipython3",
   "version": "3.6.5"
  }
 },
 "nbformat": 4,
 "nbformat_minor": 2
}
